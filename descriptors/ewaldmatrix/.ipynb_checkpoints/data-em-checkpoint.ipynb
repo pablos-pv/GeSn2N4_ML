{
 "cells": [
  {
   "cell_type": "markdown",
   "metadata": {},
   "source": [
    "### Program written by Scott Midgley, 2021\n",
    "Built-up on the basis of the code previously written by Scott Midgley\n",
    "\n",
    "Scope: To ingest VASP energies from .csv format and generate Coulomb matrix eigenspectrum from POSCAR structure files. Output              saved as .pkl file, ready for machine learning models."
   ]
  },
  {
   "cell_type": "code",
   "execution_count": 1,
   "metadata": {},
   "outputs": [],
   "source": [
    "### USER INPUT REQUIRED ###\n",
    "\n",
    "# Windows path\n",
    "repodir = r'C:\\Users\\pablo\\OneDrive\\Documentos\\GitHub\\GeSn2N4_ML'"
   ]
  },
  {
   "cell_type": "code",
   "execution_count": 2,
   "metadata": {},
   "outputs": [],
   "source": [
    "# Import modules.\n",
    "import pandas as pd\n",
    "import os\n",
    "import numpy as np\n",
    "from pymatgen.io.ase import AseAtomsAdaptor as AAA\n",
    "from pymatgen.analysis.ewald import EwaldSummation\n",
    "from dscribe.descriptors import EwaldSumMatrix\n",
    "from numpy.linalg import eig\n",
    "from ase.io import read\n",
    "import time"
   ]
  },
  {
   "cell_type": "code",
   "execution_count": 3,
   "metadata": {},
   "outputs": [],
   "source": [
    "# Read DFT derived energies from .csv file to data frame.\n",
    "energies = pd.read_csv(repodir + \"\\\\repository_data\\\\vasp-energies.csv\", header=None)\n",
    "energies.columns = ['tag','inv','SCF', 'BGE']"
   ]
  },
  {
   "cell_type": "code",
   "execution_count": 4,
   "metadata": {},
   "outputs": [],
   "source": [
    "#List of structures with DFT data to import in files\n",
    "with open(repodir + '\\\\repository_data\\\\gga_structures_list.txt', \"r\") as obj_file:  \n",
    "    file_check = obj_file.read().splitlines() "
   ]
  },
  {
   "cell_type": "code",
   "execution_count": 5,
   "metadata": {},
   "outputs": [],
   "source": [
    "# Iterate over structures in structure directory, generating CME for each configuration.\n",
    "dirs=os.listdir(repodir + '\\\\repository_data\\\\structure_files')\n",
    "files=[dirs[int(str)] for str in file_check] "
   ]
  },
  {
   "cell_type": "code",
   "execution_count": 6,
   "metadata": {},
   "outputs": [],
   "source": [
    "energies['tag']=file_check"
   ]
  },
  {
   "cell_type": "code",
   "execution_count": 7,
   "metadata": {},
   "outputs": [
    {
     "name": "stderr",
     "output_type": "stream",
     "text": [
      "C:\\Users\\pablo\\anaconda3\\lib\\site-packages\\ase\\utils\\__init__.py:62: FutureWarning: Please use atoms.cell.reciprocal()\n",
      "  warnings.warn(warning)\n"
     ]
    },
    {
     "name": "stdout",
     "output_type": "stream",
     "text": [
      "ITER CHECKER: Structure 0000  charged\n",
      "ITER CHECKER: Structure 0200  charged\n",
      "ITER CHECKER: Structure 0400  charged\n",
      "ITER CHECKER: Structure 0600  charged\n",
      "ITER CHECKER: Structure 0800  charged\n",
      "ITER CHECKER: Structure 1000  charged\n",
      "Number of matrices read:  1013\n",
      "--- 4.629091723759969 minutes ---\n"
     ]
    }
   ],
   "source": [
    "em_dscribe_list = []; em_matminer_list=[]\n",
    "oss = {'Sn':4, 'Ge':4, 'N':-3}\n",
    "em_ds = EwaldSumMatrix(n_atoms_max=56,permutation=\"eigenspectrum\",flatten=True)\n",
    "start_time = time.time()\n",
    "for i,f in enumerate(files[:]):\n",
    "    struct = read(repodir + '/repository_data/structure_files/'+f)\n",
    "    struct.set_pbc([True,True,True])\n",
    "    dscribe_matrix = em_ds.create([struct])\n",
    "    dscribe_matrix=np.real(dscribe_matrix)\n",
    "    em_dscribe_list.append(dscribe_matrix)\n",
    "     \n",
    "    struct = AAA.get_structure(struct) \n",
    "    struct.add_oxidation_state_by_element(oss)\n",
    "    ewald = EwaldSummation(struct)\n",
    "    matminer_matrix=ewald.total_energy_matrix\n",
    "    matminer_matrix,litter=eig(matminer_matrix)\n",
    "    matminer_matrix=np.real(matminer_matrix)\n",
    "    matminer_matrix=np.sort(matminer_matrix)\n",
    "    em_matminer_list.append(matminer_matrix)\n",
    "    \n",
    "    if i%200==0: print(\"ITER CHECKER: Structure\",str(i).zfill(4),\" charged\")\n",
    "    \n",
    "print('Number of matrices read: ', len(em_dscribe_list))\n",
    "print(\"--- %s minutes ---\" % ((time.time() - start_time)/60))"
   ]
  },
  {
   "cell_type": "code",
   "execution_count": 8,
   "metadata": {
    "scrolled": true
   },
   "outputs": [
    {
     "name": "stderr",
     "output_type": "stream",
     "text": [
      "<ipython-input-8-d83a88d790fb>:3: SettingWithCopyWarning: \n",
      "A value is trying to be set on a copy of a slice from a DataFrame.\n",
      "Try using .loc[row_indexer,col_indexer] = value instead\n",
      "\n",
      "See the caveats in the documentation: https://pandas.pydata.org/pandas-docs/stable/user_guide/indexing.html#returning-a-view-versus-a-copy\n",
      "  ener[\"Ewald_ds\"] = em_dscribe_list\n",
      "<ipython-input-8-d83a88d790fb>:4: SettingWithCopyWarning: \n",
      "A value is trying to be set on a copy of a slice from a DataFrame.\n",
      "Try using .loc[row_indexer,col_indexer] = value instead\n",
      "\n",
      "See the caveats in the documentation: https://pandas.pydata.org/pandas-docs/stable/user_guide/indexing.html#returning-a-view-versus-a-copy\n",
      "  ener[\"Ewald_mm\"] = em_matminer_list\n"
     ]
    }
   ],
   "source": [
    "# Add CME's to data frame with DFT energies. \n",
    "ener = energies.iloc[:len(em_dscribe_list)]\n",
    "ener[\"Ewald_ds\"] = em_dscribe_list\n",
    "ener[\"Ewald_mm\"] = em_matminer_list"
   ]
  },
  {
   "cell_type": "code",
   "execution_count": 9,
   "metadata": {},
   "outputs": [],
   "source": [
    "# Shuffle data frame (optional).\n",
    "ener = ener.sample(frac=1,random_state=38)"
   ]
  },
  {
   "cell_type": "code",
   "execution_count": 10,
   "metadata": {},
   "outputs": [],
   "source": [
    "# Save data frame to .pkl file.\n",
    "ener.to_pickle('../input_data_em.pkl')"
   ]
  }
 ],
 "metadata": {
  "kernelspec": {
   "display_name": "Python 3",
   "language": "python",
   "name": "python3"
  },
  "language_info": {
   "codemirror_mode": {
    "name": "ipython",
    "version": 3
   },
   "file_extension": ".py",
   "mimetype": "text/x-python",
   "name": "python",
   "nbconvert_exporter": "python",
   "pygments_lexer": "ipython3",
   "version": "3.8.8"
  }
 },
 "nbformat": 4,
 "nbformat_minor": 4
}
