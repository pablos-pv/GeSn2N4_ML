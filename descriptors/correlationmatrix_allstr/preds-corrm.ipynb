{
 "cells": [
  {
   "cell_type": "markdown",
   "metadata": {},
   "source": [
    "### Program written by Pablo Sánchez-Palencia, 2022\n",
    "Scope: To initialize the source .pkl file which will be used to save the predictions of the machine learning models for the targeted properties"
   ]
  },
  {
   "cell_type": "code",
   "execution_count": 1,
   "metadata": {},
   "outputs": [],
   "source": [
    "### USER INPUT REQUIRED ###\n",
    "\n",
    "# Windows path\n",
    "repodir = r'C:\\Users\\pablo\\OneDrive\\Documentos\\GitHub\\GeSn2N4-ML'"
   ]
  },
  {
   "cell_type": "code",
   "execution_count": 2,
   "metadata": {},
   "outputs": [],
   "source": [
    "# Import modules.\n",
    "import pandas as pd\n",
    "import os\n",
    "import numpy as np\n",
    "import time"
   ]
  },
  {
   "cell_type": "code",
   "execution_count": 3,
   "metadata": {},
   "outputs": [],
   "source": [
    "#Number of structures and organization within the different composition folders\n",
    "n_str=[1,2,31,186,762,1337,1291,515,97]\n",
    "inv=[0,0.125,0.25,0.375,0.5,0.625,0.75,0.875,1]"
   ]
  },
  {
   "cell_type": "code",
   "execution_count": 4,
   "metadata": {},
   "outputs": [],
   "source": [
    "#Load of all the necessary inputs\n",
    "\n",
    "#CCF \n",
    "corr_mat=[]\n",
    "with open(repodir + '\\\\repository_data\\\\correlation_matrix.txt', \"r\") as obj_file: \n",
    "    for line in obj_file: \n",
    "        corr_mat.append([int(item) for item in line.split()[1:]])  #We get rid of 1st element, the void element, no info in it.\n",
    "tuples=list(zip(list(range(len(corr_mat))),corr_mat))\n",
    "allstr=pd.DataFrame(tuples,columns=['id','CorrM'])\n",
    "    \n",
    "#Inversion degree    \n",
    "y_inv=np.ones(len(allstr))\n",
    "ind=0\n",
    "for nconf,value in zip(n_str,inv):\n",
    "    y_inv[ind:ind+nconf]*=value\n",
    "    ind+=nconf\n",
    "allstr['y']=y_inv\n",
    "\n",
    "#Degeneracies of the structure\n",
    "deg=[]\n",
    "for file in os.listdir(repodir +'\\\\repository_data\\\\structure_files'):\n",
    "    deg.append(file[file.index('w')+1:file.index('-')])\n",
    "allstr['g']=deg\n",
    "    \n",
    "#Mixing Energy and Bandgaps if calculated   \n",
    "gga_rep = pd.read_pickle(repodir + '\\\\descriptors\\\\input_data_cm.pkl')\n",
    "gga_data=[]\n",
    "data_mixe=[]\n",
    "data_bge=[]\n",
    "for compound in range(len(corr_mat)):\n",
    "    if str(compound) in gga_rep['tag'].to_numpy():\n",
    "        gga_data.append(True)\n",
    "        data_mixe.append(gga_rep[gga_rep['tag']==str(compound)]['MixE'].item())\n",
    "        data_bge.append(gga_rep[gga_rep['tag']==str(compound)]['HSE-corr'].item())\n",
    "    else:\n",
    "        gga_data.append(False)\n",
    "        data_mixe.append(False)\n",
    "        data_bge.append(False)\n",
    "allstr['gga_data']=gga_data\n",
    "allstr['MixE']=data_mixe\n",
    "allstr['HSE-corr']=data_bge"
   ]
  },
  {
   "cell_type": "code",
   "execution_count": 5,
   "metadata": {},
   "outputs": [],
   "source": [
    "# Save data frame to .pkl file.\n",
    "allstr.to_pickle('str_corrm.pkl')"
   ]
  }
 ],
 "metadata": {
  "kernelspec": {
   "display_name": "Python 3",
   "language": "python",
   "name": "python3"
  },
  "language_info": {
   "codemirror_mode": {
    "name": "ipython",
    "version": 3
   },
   "file_extension": ".py",
   "mimetype": "text/x-python",
   "name": "python",
   "nbconvert_exporter": "python",
   "pygments_lexer": "ipython3",
   "version": "3.8.8"
  }
 },
 "nbformat": 4,
 "nbformat_minor": 4
}
