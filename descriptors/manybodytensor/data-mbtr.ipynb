{
 "cells": [
  {
   "cell_type": "markdown",
   "metadata": {},
   "source": [
    "### Program written by Pablo Sánchez-Palencia, 2022\n",
    "Built-up on the basis of the code previously written by Scott Midgley\n",
    "\n",
    "Scope: To ingest VASP energies from .csv format and generate Coulomb matrix eigenspectrum from POSCAR structure files. Output   saved as .pkl file, ready for machine learning models."
   ]
  },
  {
   "cell_type": "code",
   "execution_count": 1,
   "metadata": {},
   "outputs": [],
   "source": [
    "### USER INPUT REQUIRED ###\n",
    "\n",
    "# Windows path\n",
    "repodir = r'C:\\Users\\pablo\\OneDrive\\Documentos\\GitHub\\GeSn2N4_ML'"
   ]
  },
  {
   "cell_type": "code",
   "execution_count": 2,
   "metadata": {},
   "outputs": [],
   "source": [
    "# Import modules.\n",
    "import pandas as pd\n",
    "import os\n",
    "import numpy as np\n",
    "from dscribe.descriptors import MBTR\n",
    "from ase.io import read\n",
    "from numpy.linalg import eig\n",
    "import time\n",
    "import matplotlib.pyplot as plt"
   ]
  },
  {
   "cell_type": "code",
   "execution_count": 3,
   "metadata": {},
   "outputs": [],
   "source": [
    "# Read DFT derived energies from .csv file to data frame.\n",
    "energies = pd.read_csv(repodir + \"\\\\repository_data\\\\vasp-energies.csv\", header=None)\n",
    "energies.columns = ['tag','inv','SCF', 'BGE']"
   ]
  },
  {
   "cell_type": "code",
   "execution_count": 4,
   "metadata": {},
   "outputs": [],
   "source": [
    "#List of structures with DFT data to import in files\n",
    "with open(repodir + '\\\\repository_data\\\\gga_structures_list.txt', \"r\") as obj_file: \n",
    "    file_check = obj_file.read().splitlines() "
   ]
  },
  {
   "cell_type": "code",
   "execution_count": 5,
   "metadata": {},
   "outputs": [],
   "source": [
    "# Iterate over structures in structure directory, generating SM for each configuration.\n",
    "dirs=os.listdir(repodir + '\\\\repository_data\\\\structure_files')\n",
    "files=[dirs[int(str)] for str in file_check]"
   ]
  },
  {
   "cell_type": "code",
   "execution_count": 6,
   "metadata": {},
   "outputs": [],
   "source": [
    "energies['tag']=file_check"
   ]
  },
  {
   "cell_type": "code",
   "execution_count": 7,
   "metadata": {},
   "outputs": [
    {
     "name": "stdout",
     "output_type": "stream",
     "text": [
      "ITER CHECKER: Structure 0000  charged\n",
      "ITER CHECKER: Structure 0100  charged\n",
      "ITER CHECKER: Structure 0200  charged\n",
      "ITER CHECKER: Structure 0300  charged\n",
      "ITER CHECKER: Structure 0400  charged\n",
      "ITER CHECKER: Structure 0500  charged\n",
      "ITER CHECKER: Structure 0600  charged\n",
      "ITER CHECKER: Structure 0700  charged\n",
      "ITER CHECKER: Structure 0800  charged\n",
      "ITER CHECKER: Structure 0900  charged\n",
      "ITER CHECKER: Structure 1000  charged\n",
      "Number of matrices read:  1013\n",
      "Runtime of the program is 20.333827590942384 minutes\n"
     ]
    }
   ],
   "source": [
    "mbtr_list = [];\n",
    "start=time.time()\n",
    "for i,f in enumerate(files):\n",
    "    struct = read(repodir + '/repository_data/structure_files/'+f)\n",
    "    mbtr = MBTR(\n",
    "                  species=[\"Sn\", \"Ge\", \"N\"],\n",
    "    k1={\n",
    "        \"geometry\": {\"function\": \"atomic_number\"},\n",
    "        \"grid\": {\"min\": 0, \"max\": 50, \"n\": 20, \"sigma\": 0.1},\n",
    "    },\n",
    "    \n",
    "    k2={\n",
    "        \"geometry\": {\"function\": \"inverse_distance\"},\n",
    "        \"grid\": {\"min\": 0, \"max\": 1, \"n\": 100, \"sigma\": 0.1},\n",
    "        \"weighting\": {\"function\": \"exp\", \"scale\": 0.5, \"threshold\": 1e-3},\n",
    "    },\n",
    "        \n",
    "    periodic=True,\n",
    "    normalization=\"l2_each\",\n",
    "    flatten=True,\n",
    "    sparse=False\n",
    ")\n",
    "    \n",
    "    \n",
    "    #k3={\n",
    "    #    \"geometry\": {\"function\": \"cosine\"},\n",
    "    #    \"grid\": {\"min\": -1, \"max\": 1, \"n\": 100, \"sigma\": 0.1},\n",
    "    #    \"weighting\": {\"function\": \"exp\", \"scale\": 0.5, \"threshold\": 1e-3},\n",
    "    #},\n",
    "        \n",
    "    fitted_tensor = mbtr.create([struct])\n",
    "    mbtr_list.append(fitted_tensor[0])\n",
    "    #plt.plot(fitted_tensor[0])\n",
    "    #print(fitted_tensor[0].shape)\n",
    "    if i%100==0: print(\"ITER CHECKER: Structure\",str(i).zfill(4),\" charged\")\n",
    "print('Number of matrices read: ', len(mbtr_list))\n",
    "print(f\"Runtime of the program is {(time.time() - start)/60} minutes\")"
   ]
  },
  {
   "cell_type": "code",
   "execution_count": 8,
   "metadata": {
    "scrolled": true
   },
   "outputs": [
    {
     "name": "stderr",
     "output_type": "stream",
     "text": [
      "<ipython-input-8-6f76983e3a1e>:3: SettingWithCopyWarning: \n",
      "A value is trying to be set on a copy of a slice from a DataFrame.\n",
      "Try using .loc[row_indexer,col_indexer] = value instead\n",
      "\n",
      "See the caveats in the documentation: https://pandas.pydata.org/pandas-docs/stable/user_guide/indexing.html#returning-a-view-versus-a-copy\n",
      "  ener[\"MBTR\"] =mbtr_list\n"
     ]
    }
   ],
   "source": [
    "# Add CME's to data frame with DFT energies. \n",
    "ener = energies.iloc[:len(mbtr_list)]\n",
    "ener[\"MBTR\"] =mbtr_list"
   ]
  },
  {
   "cell_type": "code",
   "execution_count": 9,
   "metadata": {},
   "outputs": [],
   "source": [
    "# Shuffle data frame (optional).\n",
    "ener = ener.sample(frac=1,random_state=38)"
   ]
  },
  {
   "cell_type": "code",
   "execution_count": 10,
   "metadata": {},
   "outputs": [],
   "source": [
    "# Save data frame to .pkl file.\n",
    "ener.to_pickle('../input_data_mbtr.pkl')"
   ]
  }
 ],
 "metadata": {
  "kernelspec": {
   "display_name": "Python 3",
   "language": "python",
   "name": "python3"
  },
  "language_info": {
   "codemirror_mode": {
    "name": "ipython",
    "version": 3
   },
   "file_extension": ".py",
   "mimetype": "text/x-python",
   "name": "python",
   "nbconvert_exporter": "python",
   "pygments_lexer": "ipython3",
   "version": "3.8.8"
  }
 },
 "nbformat": 4,
 "nbformat_minor": 4
}
