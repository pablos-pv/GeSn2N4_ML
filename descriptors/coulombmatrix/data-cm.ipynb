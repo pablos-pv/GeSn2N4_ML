{
 "cells": [
  {
   "cell_type": "markdown",
   "metadata": {},
   "source": [
    "### Program written by Pablo Sánchez-Palencia, 2022\n",
    "Built-up on the basis of the code previously written by Scott Midgley.\n",
    "\n",
    "Scope: To ingest VASP energies from .csv format, cluster correlation functions from the corresponding .txt and generate Coulomb matrix eigenspectrum (CME) from POSCAR structure files. Output  saved as .pkl file, ready for machine learning models."
   ]
  },
  {
   "cell_type": "code",
   "execution_count": 1,
   "metadata": {},
   "outputs": [],
   "source": [
    "# Import modules\n",
    "import pandas as pd\n",
    "import numpy as np\n",
    "from pymatgen.io.ase import AseAtomsAdaptor as AAA\n",
    "from matminer.featurizers import structure as sf\n",
    "from dscribe.descriptors import CoulombMatrix\n",
    "from ase.io import read\n",
    "from numpy.linalg import eig\n",
    "import time\n",
    "import os"
   ]
  },
  {
   "cell_type": "code",
   "execution_count": 2,
   "metadata": {},
   "outputs": [],
   "source": [
    "# Read DFT derived energies from .csv file to data frame.\n",
    "energies = pd.read_csv('../../repository_data/vasp-energies.csv', header=None)\n",
    "energies.columns = ['tag','inv','SCF', 'BGE']"
   ]
  },
  {
   "cell_type": "code",
   "execution_count": 3,
   "metadata": {},
   "outputs": [],
   "source": [
    "# Add predicted HSE-bandgaps, mixing formation energies and composition \n",
    "energies['HSE-corr']=1.08248836*energies['BGE']-0.04680858*energies['inv']+1.044979437918063   #Coefficients come from hse-data.py\n",
    "\n",
    "ge=-381.21959448; sn=-357.66903362\n",
    "energies['MixE']=energies['SCF']-1/3*ge-2/3*sn"
   ]
  },
  {
   "cell_type": "code",
   "execution_count": 4,
   "metadata": {},
   "outputs": [],
   "source": [
    "#List of structures with DFT data to import in files\n",
    "with open('../../repository_data/gga_structures_list.txt', \"r\") as obj_file: \n",
    "    file_check = obj_file.read().splitlines() "
   ]
  },
  {
   "cell_type": "code",
   "execution_count": 5,
   "metadata": {},
   "outputs": [],
   "source": [
    "# Iterate over structures in structure directory, generating CME for each configuration.\n",
    "dirs=os.listdir('../../repository_data/structure_files')\n",
    "files=[dirs[int(strct)] for strct in file_check] "
   ]
  },
  {
   "cell_type": "code",
   "execution_count": 6,
   "metadata": {},
   "outputs": [],
   "source": [
    "energies['tag']=file_check"
   ]
  },
  {
   "cell_type": "code",
   "execution_count": 7,
   "metadata": {},
   "outputs": [],
   "source": [
    "#read correlation matrix file\n",
    "with open('../../repository_data/correlation_matrix.txt', \"r\") as obj_file: \n",
    "    corr_mat=[]\n",
    "    for line in obj_file: \n",
    "        corr_mat.append([int(x) for x in line.split()[1:]])\n",
    "    corr_mat=np.array(corr_mat)\n",
    "energies['CorrM']=list(corr_mat[list(map(int,file_check))])"
   ]
  },
  {
   "cell_type": "code",
   "execution_count": 8,
   "metadata": {},
   "outputs": [
    {
     "name": "stderr",
     "output_type": "stream",
     "text": [
      "C:\\Users\\psanc\\anaconda3\\envs\\spinel-paper\\lib\\site-packages\\matminer\\featurizers\\structure\\matrix.py:101: ComplexWarning: Casting complex values to real discards the imaginary part\n",
      "  zeros[: len(eigs)] = eigs\n"
     ]
    },
    {
     "name": "stdout",
     "output_type": "stream",
     "text": [
      "ITER CHECKER: Structure 0000  charged\n",
      "ITER CHECKER: Structure 0200  charged\n",
      "ITER CHECKER: Structure 0400  charged\n",
      "ITER CHECKER: Structure 0600  charged\n",
      "ITER CHECKER: Structure 0800  charged\n",
      "ITER CHECKER: Structure 1000  charged\n",
      "Number of matrices read:  1013\n",
      "--- 4.387697279453278 minutes ---\n"
     ]
    }
   ],
   "source": [
    "cm_dscribe_list = []; cm_matminer_list=[]\n",
    "cm_ds = CoulombMatrix(n_atoms_max=56,permutation=\"eigenspectrum\")\n",
    "cm_mm = sf.CoulombMatrix(flatten=True)\n",
    "start_time = time.time()\n",
    "for i,f in enumerate(files[:]):\n",
    "    struct = read('../../repository_data/structure_files/'+f)\n",
    "    struct.set_pbc([True,True,True])\n",
    "    dscribe_matrix = cm_ds.create([struct])\n",
    "    dscribe_matrix=np.real(dscribe_matrix)\n",
    "    cm_dscribe_list.append(dscribe_matrix)\n",
    "        \n",
    "    struct = AAA.get_structure(struct)\n",
    "    matminer_matrix = cm_mm.fit([struct])\n",
    "    featurized_structure = matminer_matrix.featurize(struct)\n",
    "    #featurized_structure=featurized_structure[0][:24,:24]    ###Change to featurized_matrix in the appending and flatten=False\n",
    "    #featurized_matrix,v=eig(featurized_structure)\n",
    "    #featurized_matrix=np.real(featurized_matrix)\n",
    "    cm_matminer_list.append(np.sort(featurized_structure)[::-1])\n",
    "    \n",
    "    if i%200==0: print(\"ITER CHECKER: Structure\",str(i).zfill(4),\" charged\")\n",
    "    \n",
    "print('Number of matrices read: ', len(cm_dscribe_list))\n",
    "print(\"--- %s minutes ---\" % ((time.time() - start_time)/60))"
   ]
  },
  {
   "cell_type": "code",
   "execution_count": 9,
   "metadata": {
    "scrolled": true
   },
   "outputs": [
    {
     "name": "stderr",
     "output_type": "stream",
     "text": [
      "C:\\Users\\psanc\\AppData\\Local\\Temp\\ipykernel_13176\\4094626965.py:3: SettingWithCopyWarning: \n",
      "A value is trying to be set on a copy of a slice from a DataFrame.\n",
      "Try using .loc[row_indexer,col_indexer] = value instead\n",
      "\n",
      "See the caveats in the documentation: https://pandas.pydata.org/pandas-docs/stable/user_guide/indexing.html#returning-a-view-versus-a-copy\n",
      "  ener[\"Coulomb_ds\"] = cm_dscribe_list\n",
      "C:\\Users\\psanc\\AppData\\Local\\Temp\\ipykernel_13176\\4094626965.py:4: SettingWithCopyWarning: \n",
      "A value is trying to be set on a copy of a slice from a DataFrame.\n",
      "Try using .loc[row_indexer,col_indexer] = value instead\n",
      "\n",
      "See the caveats in the documentation: https://pandas.pydata.org/pandas-docs/stable/user_guide/indexing.html#returning-a-view-versus-a-copy\n",
      "  ener[\"Coulomb_mm\"] = cm_matminer_list\n"
     ]
    }
   ],
   "source": [
    "# Add CME's to data frame with DFT energies. \n",
    "ener = energies.iloc[:len(cm_dscribe_list)]\n",
    "ener[\"Coulomb_ds\"] = cm_dscribe_list\n",
    "ener[\"Coulomb_mm\"] = cm_matminer_list"
   ]
  },
  {
   "cell_type": "code",
   "execution_count": 10,
   "metadata": {},
   "outputs": [],
   "source": [
    "# Shuffle data frame (optional).\n",
    "ener = ener.sample(frac=1,random_state=38)"
   ]
  },
  {
   "cell_type": "code",
   "execution_count": 11,
   "metadata": {},
   "outputs": [],
   "source": [
    "# Save data frame to .pkl file.\n",
    "ener.to_pickle('../input_data_cm.pkl')"
   ]
  }
 ],
 "metadata": {
  "kernelspec": {
   "display_name": "Python 3 (ipykernel)",
   "language": "python",
   "name": "python3"
  },
  "language_info": {
   "codemirror_mode": {
    "name": "ipython",
    "version": 3
   },
   "file_extension": ".py",
   "mimetype": "text/x-python",
   "name": "python",
   "nbconvert_exporter": "python",
   "pygments_lexer": "ipython3",
   "version": "3.9.12"
  }
 },
 "nbformat": 4,
 "nbformat_minor": 4
}
