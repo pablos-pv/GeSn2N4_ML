{
 "cells": [
  {
   "cell_type": "markdown",
   "metadata": {},
   "source": [
    "### Program written by Pablo Sánchez-Palencia, 2022\n",
    "Built-up on the basis of the code previously written by Scott Midgley\n",
    "\n",
    "Scope: To train and test MLP model for band gap and mixing energy screening in the configurational space of Sn2GeN4 spinel solid solutions. "
   ]
  },
  {
   "cell_type": "code",
   "execution_count": 1,
   "metadata": {},
   "outputs": [],
   "source": [
    "### USER INPUT REQUIRED ###\n",
    "\n",
    "#Define if the code is run in train (train the models from scratch) or load mode (load the pre-trained weights from the corresponding folder)\n",
    "#mode=\"train\"\n",
    "mode=\"load\"\n",
    "\n",
    "# Define percentage of training data to use for training\n",
    "#split = 20\n",
    "#split = 50\n",
    "split = 80\n",
    "\n",
    "# Define the structural descriptor to use for training the model\n",
    "#descriptor=\"Coulomb_mm\"\n",
    "#descriptor=\"Coulomb_ds\"\n",
    "#descriptor=\"Coulomb_corr\"\n",
    "#descriptor=\"Sine_mm\"\n",
    "#descriptor=\"Sine_ds\"\n",
    "#descriptor=\"Ewald_mm\"\n",
    "#descriptor=\"Ewald_ds\"\n",
    "#descriptor=\"MBTR\"\n",
    "descriptor=\"CorrM\"\n",
    "\n",
    "#Define property to predict with the model\n",
    "#feature=\"SCF\"\n",
    "#feature=\"MixE\";labelsname=\"Mixing Energy\"\n",
    "#feature=\"BGE\";labelsname=\"Bandgap\"\n",
    "feature=\"HSE-corr\";labelsname=\"Bandgap\""
   ]
  },
  {
   "cell_type": "code",
   "execution_count": 2,
   "metadata": {},
   "outputs": [],
   "source": [
    "# Import modules.\n",
    "import pandas as pd\n",
    "import matplotlib.pyplot as plt\n",
    "import numpy as np\n",
    "from tensorflow.keras.backend import clear_session\n",
    "from tensorflow.keras import Sequential\n",
    "from tensorflow.keras.layers import Dense\n",
    "from tensorflow.keras.layers import BatchNormalization, Dropout\n",
    "from tensorflow.keras.optimizers import Adam #Stochasic gradient descent method optimising weights and activations\n",
    "from tensorflow.keras.callbacks import ModelCheckpoint\n",
    "from tensorflow.keras.callbacks import EarlyStopping\n",
    "from sklearn.utils import shuffle\n",
    "from sklearn.metrics import mean_absolute_error,r2_score\n",
    "import time\n",
    "import pickle\n",
    "import os\n",
    "import shap"
   ]
  },
  {
   "cell_type": "code",
   "execution_count": 3,
   "metadata": {},
   "outputs": [],
   "source": [
    "# Define MLP architecture.\n",
    "def mlp_deep(dropout_rate=0.1):\n",
    "    model = Sequential()\n",
    "    model.add(Dense(256, input_dim=Xtrain[0].shape[0], activation='relu'))\n",
    "    model.add(BatchNormalization())\n",
    "    if dropout_rate > 0:\n",
    "        model.add(Dropout(dropout_rate))\n",
    "    model.add(Dense(128, activation='relu'))\n",
    "    model.add(BatchNormalization())\n",
    "    if dropout_rate > 0:\n",
    "        model.add(Dropout(dropout_rate))\n",
    "    model.add(Dense(64, activation='relu'))\n",
    "    model.add(BatchNormalization())\n",
    "    if dropout_rate > 0:\n",
    "        model.add(Dropout(dropout_rate))\n",
    "    model.add(Dense(32, activation='relu'))\n",
    "    model.add(BatchNormalization())\n",
    "    if dropout_rate > 0:\n",
    "        model.add(Dropout(dropout_rate))\n",
    "    model.add(Dense(1, activation='linear'))\n",
    "    return model"
   ]
  },
  {
   "cell_type": "code",
   "execution_count": 4,
   "metadata": {},
   "outputs": [],
   "source": [
    "#Define generic functions to run ensembles\n",
    "def train_model(model, index=99, epochs=10000, verbose=0, weights_dir='ensemble_weights/'):\n",
    "    if not os.path.isdir(weights_dir):\n",
    "        os.mkdir(weights_dir)\n",
    "    start=time.time()\n",
    "    ad = Adam(learning_rate=1e-4, beta_1=0.9, beta_2=0.999, amsgrad=False)    \n",
    "    #checkpoint = ModelCheckpoint(weights_dir + '/best_val_acc_%s.h5' % str(index),verbose=1, monitor='val_loss',save_best_only=True, mode='auto')\n",
    "    stopping =  EarlyStopping(monitor='val_mean_squared_error', patience=750, verbose=0, mode='auto', restore_best_weights=True)\n",
    "    model.compile(loss='mean_squared_error', optimizer=ad, metrics=['mean_squared_error'])\n",
    "    history = model.fit(Xtrain, ytrain, epochs=epochs, batch_size=32, verbose=verbose, validation_data=(Xval, yval), callbacks=[stopping])\n",
    "    model.save(weights_dir + 'trainedmodel_'+feature+descriptor+str(index)+'.h5')\n",
    "    end=time.time()\n",
    "    print(f\"Runtime of the program is {(end - start)/60} min\")\n",
    "    print(len(history.history['mean_squared_error']))\n",
    "    return history \n",
    "\n",
    "def ensemble_inference(model, data, num_models=1,fileroot='ensemble_weights/trainedmodel_'):\n",
    "    predictions = np.zeros(shape=(num_models, len(data),1))\n",
    "    if num_models==1:\n",
    "        model.load_weights(fileroot+feature+descriptor+str(99)+'.h5')\n",
    "        predictions[0,:,:] = model.predict(data)\n",
    "    else:\n",
    "        for i in range(num_models):\n",
    "            model.load_weights(fileroot+feature+descriptor+str(i)+'.h5')\n",
    "            predictions[i,:,:] = model.predict(data)\n",
    "    means = np.mean(predictions, axis=0)\n",
    "    std = np.std(predictions, axis=0)\n",
    "    return means, std, predictions\n",
    "\n",
    "def score_model(realval,preds,print_results=False,graph=False,print_ingraph=False,savegraph=False):\n",
    "    mae = mean_absolute_error(realval,preds)*1000\n",
    "    maxerr= max(abs(preds.reshape(len(preds),)-realval))*1000\n",
    "    r2=r2_score(realval,preds)\n",
    "    if print_results==True:\n",
    "        print('Mean absolute error {} meV'.format(mae))\n",
    "        print('Maximum error {} meV'.format(maxerr))\n",
    "        print('R2 = {}'.format(r2))\n",
    "    if graph==True:\n",
    "        if savegraph==True:\n",
    "            plt.figure(dpi=600)\n",
    "        else:\n",
    "            plt.figure()\n",
    "        plt.plot(realval.reshape(len(preds),),preds,'o')\n",
    "        vmin=min(min(realval),min(preds));vmax=max(max(realval),max(preds))\n",
    "        eje=np.linspace(vmin,vmax,10)\n",
    "        plt.plot(eje,eje)\n",
    "        plt.ylabel(\"Predicted values\")\n",
    "        plt.xlabel(\"Calculated values\")\n",
    "        plt.title(\"Bandgaps (eV)\")\n",
    "        ax=plt.gca()\n",
    "        ax.set_xlim([vmin-0.01,vmax+0.01]);ax.set_ylim([vmin-0.01,vmax+0.01])\n",
    "        ax.set_aspect('equal', adjustable='box')\n",
    "        if print_ingraph==True:\n",
    "            xtags=vmin+0.07*(vmax-vmin)\n",
    "            yperc=np.array([0.9,0.85,0.8,0.75,0.7,0.65,0.6])\n",
    "            ytags=vmin+yperc*(vmax-vmin)\n",
    "            plt.text(xtags,ytags[0], \"MAE = \"+'%.2f' % (mae) +\" meV\")\n",
    "            plt.text(xtags,ytags[1], r'$\\epsilon$$_{max}$ = '+'%.2f' % (maxerr) +\" meV\")\n",
    "            plt.text(xtags,ytags[2], r'R$^2$ = '+'%.3f' % r2)\n",
    "        if savegraph==True:\n",
    "            plt.savefig('MLP_'+descriptor+feature+\".png\")\n",
    "        plt.show()\n",
    "        plt.close()\n",
    "    return mae,maxerr,r2"
   ]
  },
  {
   "cell_type": "code",
   "execution_count": 5,
   "metadata": {},
   "outputs": [],
   "source": [
    "# Clear any existing Tensorflow data from cache.\n",
    "clear_session()"
   ]
  },
  {
   "cell_type": "markdown",
   "metadata": {},
   "source": [
    "## Load the data"
   ]
  },
  {
   "cell_type": "code",
   "execution_count": 6,
   "metadata": {},
   "outputs": [],
   "source": [
    "# Import data and shuffle (optional).\n",
    "ener      = pd.read_pickle('../descriptors/input_data_cm.pkl')\n",
    "sm_data   = pd.read_pickle('../descriptors/input_data_sm.pkl')\n",
    "em_data   = pd.read_pickle('../descriptors/input_data_em.pkl')\n",
    "mbtr_data = pd.read_pickle('../descriptors/input_data_mbtr.pkl')\n",
    "\n",
    "ener[\"Sine_ds\"]=sm_data[\"Sine_ds\"]\n",
    "ener[\"Sine_mm\"]=sm_data[\"Sine_mm\"]\n",
    "ener[\"Ewald_ds\"]=em_data[\"Ewald_ds\"]\n",
    "ener[\"Ewald_mm\"]=em_data[\"Ewald_mm\"]\n",
    "ener[\"MBTR\"]=mbtr_data[\"MBTR\"]\n",
    "\n",
    "ener = ener.sample(frac=1,random_state=91)"
   ]
  },
  {
   "cell_type": "code",
   "execution_count": 7,
   "metadata": {},
   "outputs": [],
   "source": [
    "# Split data frame into training, validation, and testing data. \n",
    "l=len(ener)\n",
    "\n",
    "e_test = ener.iloc[:l//10+1] #10% of data for testing model\n",
    "e_val = ener.iloc[l//10+1:l//10*2+1] #10% of data for validation\n",
    "\n",
    "if split == int(20):\n",
    "    e_train = ener.iloc[l//10*2+1:l//10*4+1] #30% of data for training\n",
    "elif split == int(50):\n",
    "    e_train = ener.iloc[l//10*2+1:l//10*7+1] #50% of data for training\n",
    "elif split == int(80):\n",
    "    e_train = ener.iloc[l//10*2+1:l] #80% of data for training\n",
    "else:\n",
    "    print('Error: please choose a valid train/test split.')"
   ]
  },
  {
   "cell_type": "code",
   "execution_count": 8,
   "metadata": {},
   "outputs": [
    {
     "name": "stdout",
     "output_type": "stream",
     "text": [
      "Number of training data points =  810\n"
     ]
    }
   ],
   "source": [
    "# Print number of training data points\n",
    "print('Number of training data points = ', len(e_train))\n",
    "# Convert Pandas columns to Numpy arrays. Reshaping to obtain array of nested brackets. \n",
    "Xtrain = e_train[descriptor].to_numpy()\n",
    "Xtrain = np.stack(Xtrain)\n",
    "Xval   = e_val[descriptor].to_numpy()\n",
    "Xval   = np.stack(Xval)\n",
    "Xtest  = e_test[descriptor].to_numpy()\n",
    "Xtest  = np.stack(Xtest)\n",
    "ytrain = e_train[feature].to_numpy()\n",
    "yval   = e_val[feature].to_numpy()\n",
    "ytest  = e_test[feature].to_numpy()\n",
    "itrain = e_train['tag'].to_numpy()\n",
    "ival   = e_val['tag'].to_numpy()\n",
    "itest  = e_test['tag'].to_numpy()"
   ]
  },
  {
   "cell_type": "code",
   "execution_count": 9,
   "metadata": {},
   "outputs": [
    {
     "data": {
      "image/png": "[encoded data removed]",
      "text/plain": [
       "<Figure size 432x288 with 1 Axes>"
      ]
     },
     "metadata": {
      "needs_background": "light"
     },
     "output_type": "display_data"
    }
   ],
   "source": [
    "#Visualization of the distribution of values among the different sets: training, validation and test.\n",
    "plt.figure()\n",
    "plt.plot(np.linspace(0,1,len(ytrain)),sorted(ytrain))\n",
    "plt.plot(np.linspace(0,1,len(yval)),sorted(yval))\n",
    "plt.plot(np.linspace(0,1,len(ytest)),sorted(ytest))\n",
    "plt.show()\n",
    "plt.close()"
   ]
  },
  {
   "cell_type": "code",
   "execution_count": 10,
   "metadata": {},
   "outputs": [
    {
     "data": {
      "image/png": "[encoded data removed]",
      "text/plain": [
       "<Figure size 432x288 with 1 Axes>"
      ]
     },
     "metadata": {
      "needs_background": "light"
     },
     "output_type": "display_data"
    }
   ],
   "source": [
    "#Visualization of the distribution of DFT calculated values across inversion degrees\n",
    "plt.figure()\n",
    "plt.plot(ener['inv'],ener[feature],'o')\n",
    "plt.xlabel(\"Inversion degree\")\n",
    "plt.ylabel(labelsname+\" (eV)\")\n",
    "plt.show()\n",
    "plt.close()"
   ]
  },
  {
   "cell_type": "markdown",
   "metadata": {},
   "source": [
    "## Train a model from scrach \n",
    "\n",
    "You can retrain a new model on any amount of the data that you would like to use.\n",
    "Note - the model will probably take around 8000 epochs to reach the stopping creteria prescribed below (these are the criteria used in the paper).\n",
    "\n",
    "You can build either the shallow or the deep network using the `shallow_mlp` and `deep_mlp` functions respectively."
   ]
  },
  {
   "cell_type": "code",
   "execution_count": 11,
   "metadata": {},
   "outputs": [],
   "source": [
    "# Define MLP architecture. \n",
    "model = mlp_deep(dropout_rate=0.1)"
   ]
  },
  {
   "cell_type": "code",
   "execution_count": 12,
   "metadata": {},
   "outputs": [
    {
     "name": "stdout",
     "output_type": "stream",
     "text": [
      "Model: \"sequential\"\n",
      "_________________________________________________________________\n",
      "Layer (type)                 Output Shape              Param #   \n",
      "=================================================================\n",
      "dense (Dense)                (None, 256)               8960      \n",
      "_________________________________________________________________\n",
      "batch_normalization (BatchNo (None, 256)               1024      \n",
      "_________________________________________________________________\n",
      "dropout (Dropout)            (None, 256)               0         \n",
      "_________________________________________________________________\n",
      "dense_1 (Dense)              (None, 128)               32896     \n",
      "_________________________________________________________________\n",
      "batch_normalization_1 (Batch (None, 128)               512       \n",
      "_________________________________________________________________\n",
      "dropout_1 (Dropout)          (None, 128)               0         \n",
      "_________________________________________________________________\n",
      "dense_2 (Dense)              (None, 64)                8256      \n",
      "_________________________________________________________________\n",
      "batch_normalization_2 (Batch (None, 64)                256       \n",
      "_________________________________________________________________\n",
      "dropout_2 (Dropout)          (None, 64)                0         \n",
      "_________________________________________________________________\n",
      "dense_3 (Dense)              (None, 32)                2080      \n",
      "_________________________________________________________________\n",
      "batch_normalization_3 (Batch (None, 32)                128       \n",
      "_________________________________________________________________\n",
      "dropout_3 (Dropout)          (None, 32)                0         \n",
      "_________________________________________________________________\n",
      "dense_4 (Dense)              (None, 1)                 33        \n",
      "=================================================================\n",
      "Total params: 54,145\n",
      "Trainable params: 53,185\n",
      "Non-trainable params: 960\n",
      "_________________________________________________________________\n"
     ]
    }
   ],
   "source": [
    "# Summarize model trainable parameters. \n",
    "model.summary()"
   ]
  },
  {
   "cell_type": "code",
   "execution_count": 13,
   "metadata": {},
   "outputs": [],
   "source": [
    "# Train MLP.\n",
    "if mode==\"train\":\n",
    "    history=train_model(model)"
   ]
  },
  {
   "cell_type": "code",
   "execution_count": 14,
   "metadata": {
    "scrolled": true
   },
   "outputs": [],
   "source": [
    "# Plote validation MAE vs number of training epochs. \n",
    "if mode==\"train\":\n",
    "    plt.figure()\n",
    "    print(history.history.keys())\n",
    "    plt.plot(history.history['mean_squared_error'])\n",
    "    plt.plot(history.history['val_mean_squared_error'])\n",
    "    plt.ylabel('Mean Squared Error')\n",
    "    plt.xlabel('Training Epoch')\n",
    "    plt.ylim(0,0.25)\n",
    "    #print(history.history['val_mean_squared_error'][-1])\n",
    "    #print(min(history.history['val_mean_squared_error']))\n",
    "    plt.show()\n",
    "    plt.close()"
   ]
  },
  {
   "cell_type": "code",
   "execution_count": 15,
   "metadata": {},
   "outputs": [
    {
     "ename": "FileNotFoundError",
     "evalue": "[Errno 2] Unable to open file (unable to open file: name = 'ensemble_weights/trainedmodel_MixECorrM99.h5', errno = 2, error message = 'No such file or directory', flags = 0, o_flags = 0)",
     "output_type": "error",
     "traceback": [
      "\u001b[1;31m---------------------------------------------------------------------------\u001b[0m",
      "\u001b[1;31mFileNotFoundError\u001b[0m                         Traceback (most recent call last)",
      "Input \u001b[1;32mIn [15]\u001b[0m, in \u001b[0;36m<cell line: 1>\u001b[1;34m()\u001b[0m\n\u001b[1;32m----> 1\u001b[0m ypred,trash,trash\u001b[38;5;241m=\u001b[39m\u001b[43mensemble_inference\u001b[49m\u001b[43m(\u001b[49m\u001b[43mmodel\u001b[49m\u001b[43m,\u001b[49m\u001b[43m \u001b[49m\u001b[43mXtest\u001b[49m\u001b[43m)\u001b[49m\n\u001b[0;32m      2\u001b[0m mae,maxerr,r2\u001b[38;5;241m=\u001b[39mscore_model(ytest,ypred,print_results\u001b[38;5;241m=\u001b[39m\u001b[38;5;28;01mTrue\u001b[39;00m,graph\u001b[38;5;241m=\u001b[39m\u001b[38;5;28;01mTrue\u001b[39;00m,print_ingraph\u001b[38;5;241m=\u001b[39m\u001b[38;5;28;01mTrue\u001b[39;00m)\n",
      "Input \u001b[1;32mIn [4]\u001b[0m, in \u001b[0;36mensemble_inference\u001b[1;34m(model, data, num_models, fileroot)\u001b[0m\n\u001b[0;32m     18\u001b[0m predictions \u001b[38;5;241m=\u001b[39m np\u001b[38;5;241m.\u001b[39mzeros(shape\u001b[38;5;241m=\u001b[39m(num_models, \u001b[38;5;28mlen\u001b[39m(data),\u001b[38;5;241m1\u001b[39m))\n\u001b[0;32m     19\u001b[0m \u001b[38;5;28;01mif\u001b[39;00m num_models\u001b[38;5;241m==\u001b[39m\u001b[38;5;241m1\u001b[39m:\n\u001b[1;32m---> 20\u001b[0m     \u001b[43mmodel\u001b[49m\u001b[38;5;241;43m.\u001b[39;49m\u001b[43mload_weights\u001b[49m\u001b[43m(\u001b[49m\u001b[43mfileroot\u001b[49m\u001b[38;5;241;43m+\u001b[39;49m\u001b[43mfeature\u001b[49m\u001b[38;5;241;43m+\u001b[39;49m\u001b[43mdescriptor\u001b[49m\u001b[38;5;241;43m+\u001b[39;49m\u001b[38;5;28;43mstr\u001b[39;49m\u001b[43m(\u001b[49m\u001b[38;5;241;43m99\u001b[39;49m\u001b[43m)\u001b[49m\u001b[38;5;241;43m+\u001b[39;49m\u001b[38;5;124;43m'\u001b[39;49m\u001b[38;5;124;43m.h5\u001b[39;49m\u001b[38;5;124;43m'\u001b[39;49m\u001b[43m)\u001b[49m\n\u001b[0;32m     21\u001b[0m     predictions[\u001b[38;5;241m0\u001b[39m,:,:] \u001b[38;5;241m=\u001b[39m model\u001b[38;5;241m.\u001b[39mpredict(data)\n\u001b[0;32m     22\u001b[0m \u001b[38;5;28;01melse\u001b[39;00m:\n",
      "File \u001b[1;32m~\\anaconda3\\lib\\site-packages\\tensorflow\\python\\keras\\engine\\training.py:2349\u001b[0m, in \u001b[0;36mModel.load_weights\u001b[1;34m(self, filepath, by_name, skip_mismatch, options)\u001b[0m\n\u001b[0;32m   2344\u001b[0m   \u001b[38;5;28;01mraise\u001b[39;00m \u001b[38;5;167;01mValueError\u001b[39;00m(\n\u001b[0;32m   2345\u001b[0m       \u001b[38;5;124m'\u001b[39m\u001b[38;5;124mUnable to load weights saved in HDF5 format into a subclassed \u001b[39m\u001b[38;5;124m'\u001b[39m\n\u001b[0;32m   2346\u001b[0m       \u001b[38;5;124m'\u001b[39m\u001b[38;5;124mModel which has not created its variables yet. Call the Model \u001b[39m\u001b[38;5;124m'\u001b[39m\n\u001b[0;32m   2347\u001b[0m       \u001b[38;5;124m'\u001b[39m\u001b[38;5;124mfirst, then load the weights.\u001b[39m\u001b[38;5;124m'\u001b[39m)\n\u001b[0;32m   2348\u001b[0m \u001b[38;5;28mself\u001b[39m\u001b[38;5;241m.\u001b[39m_assert_weights_created()\n\u001b[1;32m-> 2349\u001b[0m \u001b[38;5;28;01mwith\u001b[39;00m \u001b[43mh5py\u001b[49m\u001b[38;5;241;43m.\u001b[39;49m\u001b[43mFile\u001b[49m\u001b[43m(\u001b[49m\u001b[43mfilepath\u001b[49m\u001b[43m,\u001b[49m\u001b[43m \u001b[49m\u001b[38;5;124;43m'\u001b[39;49m\u001b[38;5;124;43mr\u001b[39;49m\u001b[38;5;124;43m'\u001b[39;49m\u001b[43m)\u001b[49m \u001b[38;5;28;01mas\u001b[39;00m f:\n\u001b[0;32m   2350\u001b[0m   \u001b[38;5;28;01mif\u001b[39;00m \u001b[38;5;124m'\u001b[39m\u001b[38;5;124mlayer_names\u001b[39m\u001b[38;5;124m'\u001b[39m \u001b[38;5;129;01mnot\u001b[39;00m \u001b[38;5;129;01min\u001b[39;00m f\u001b[38;5;241m.\u001b[39mattrs \u001b[38;5;129;01mand\u001b[39;00m \u001b[38;5;124m'\u001b[39m\u001b[38;5;124mmodel_weights\u001b[39m\u001b[38;5;124m'\u001b[39m \u001b[38;5;129;01min\u001b[39;00m f:\n\u001b[0;32m   2351\u001b[0m     f \u001b[38;5;241m=\u001b[39m f[\u001b[38;5;124m'\u001b[39m\u001b[38;5;124mmodel_weights\u001b[39m\u001b[38;5;124m'\u001b[39m]\n",
      "File \u001b[1;32m~\\anaconda3\\lib\\site-packages\\h5py\\_hl\\files.py:507\u001b[0m, in \u001b[0;36mFile.__init__\u001b[1;34m(self, name, mode, driver, libver, userblock_size, swmr, rdcc_nslots, rdcc_nbytes, rdcc_w0, track_order, fs_strategy, fs_persist, fs_threshold, fs_page_size, page_buf_size, min_meta_keep, min_raw_keep, locking, **kwds)\u001b[0m\n\u001b[0;32m    502\u001b[0m     fapl \u001b[38;5;241m=\u001b[39m make_fapl(driver, libver, rdcc_nslots, rdcc_nbytes, rdcc_w0,\n\u001b[0;32m    503\u001b[0m                      locking, page_buf_size, min_meta_keep, min_raw_keep, \u001b[38;5;241m*\u001b[39m\u001b[38;5;241m*\u001b[39mkwds)\n\u001b[0;32m    504\u001b[0m     fcpl \u001b[38;5;241m=\u001b[39m make_fcpl(track_order\u001b[38;5;241m=\u001b[39mtrack_order, fs_strategy\u001b[38;5;241m=\u001b[39mfs_strategy,\n\u001b[0;32m    505\u001b[0m                      fs_persist\u001b[38;5;241m=\u001b[39mfs_persist, fs_threshold\u001b[38;5;241m=\u001b[39mfs_threshold,\n\u001b[0;32m    506\u001b[0m                      fs_page_size\u001b[38;5;241m=\u001b[39mfs_page_size)\n\u001b[1;32m--> 507\u001b[0m     fid \u001b[38;5;241m=\u001b[39m \u001b[43mmake_fid\u001b[49m\u001b[43m(\u001b[49m\u001b[43mname\u001b[49m\u001b[43m,\u001b[49m\u001b[43m \u001b[49m\u001b[43mmode\u001b[49m\u001b[43m,\u001b[49m\u001b[43m \u001b[49m\u001b[43muserblock_size\u001b[49m\u001b[43m,\u001b[49m\u001b[43m \u001b[49m\u001b[43mfapl\u001b[49m\u001b[43m,\u001b[49m\u001b[43m \u001b[49m\u001b[43mfcpl\u001b[49m\u001b[43m,\u001b[49m\u001b[43m \u001b[49m\u001b[43mswmr\u001b[49m\u001b[38;5;241;43m=\u001b[39;49m\u001b[43mswmr\u001b[49m\u001b[43m)\u001b[49m\n\u001b[0;32m    509\u001b[0m \u001b[38;5;28;01mif\u001b[39;00m \u001b[38;5;28misinstance\u001b[39m(libver, \u001b[38;5;28mtuple\u001b[39m):\n\u001b[0;32m    510\u001b[0m     \u001b[38;5;28mself\u001b[39m\u001b[38;5;241m.\u001b[39m_libver \u001b[38;5;241m=\u001b[39m libver\n",
      "File \u001b[1;32m~\\anaconda3\\lib\\site-packages\\h5py\\_hl\\files.py:220\u001b[0m, in \u001b[0;36mmake_fid\u001b[1;34m(name, mode, userblock_size, fapl, fcpl, swmr)\u001b[0m\n\u001b[0;32m    218\u001b[0m     \u001b[38;5;28;01mif\u001b[39;00m swmr \u001b[38;5;129;01mand\u001b[39;00m swmr_support:\n\u001b[0;32m    219\u001b[0m         flags \u001b[38;5;241m|\u001b[39m\u001b[38;5;241m=\u001b[39m h5f\u001b[38;5;241m.\u001b[39mACC_SWMR_READ\n\u001b[1;32m--> 220\u001b[0m     fid \u001b[38;5;241m=\u001b[39m \u001b[43mh5f\u001b[49m\u001b[38;5;241;43m.\u001b[39;49m\u001b[43mopen\u001b[49m\u001b[43m(\u001b[49m\u001b[43mname\u001b[49m\u001b[43m,\u001b[49m\u001b[43m \u001b[49m\u001b[43mflags\u001b[49m\u001b[43m,\u001b[49m\u001b[43m \u001b[49m\u001b[43mfapl\u001b[49m\u001b[38;5;241;43m=\u001b[39;49m\u001b[43mfapl\u001b[49m\u001b[43m)\u001b[49m\n\u001b[0;32m    221\u001b[0m \u001b[38;5;28;01melif\u001b[39;00m mode \u001b[38;5;241m==\u001b[39m \u001b[38;5;124m'\u001b[39m\u001b[38;5;124mr+\u001b[39m\u001b[38;5;124m'\u001b[39m:\n\u001b[0;32m    222\u001b[0m     fid \u001b[38;5;241m=\u001b[39m h5f\u001b[38;5;241m.\u001b[39mopen(name, h5f\u001b[38;5;241m.\u001b[39mACC_RDWR, fapl\u001b[38;5;241m=\u001b[39mfapl)\n",
      "File \u001b[1;32mh5py\\_objects.pyx:54\u001b[0m, in \u001b[0;36mh5py._objects.with_phil.wrapper\u001b[1;34m()\u001b[0m\n",
      "File \u001b[1;32mh5py\\_objects.pyx:55\u001b[0m, in \u001b[0;36mh5py._objects.with_phil.wrapper\u001b[1;34m()\u001b[0m\n",
      "File \u001b[1;32mh5py\\h5f.pyx:106\u001b[0m, in \u001b[0;36mh5py.h5f.open\u001b[1;34m()\u001b[0m\n",
      "\u001b[1;31mFileNotFoundError\u001b[0m: [Errno 2] Unable to open file (unable to open file: name = 'ensemble_weights/trainedmodel_MixECorrM99.h5', errno = 2, error message = 'No such file or directory', flags = 0, o_flags = 0)"
     ]
    }
   ],
   "source": [
    "ypred,trash,trash=ensemble_inference(model, Xtest)\n",
    "mae,maxerr,r2=score_model(ytest,ypred,print_results=True,graph=True,print_ingraph=True)"
   ]
  },
  {
   "cell_type": "code",
   "execution_count": null,
   "metadata": {},
   "outputs": [],
   "source": [
    "trainpred,trash,trash=ensemble_inference(model, Xtrain)\n",
    "score_model(ytrain,trainpred,graph=True,print_ingraph=True)"
   ]
  },
  {
   "cell_type": "code",
   "execution_count": null,
   "metadata": {},
   "outputs": [],
   "source": [
    "valpred,trash,trash=ensemble_inference(model, Xval)\n",
    "score_model(yval,valpred,graph=True,print_ingraph=True)"
   ]
  },
  {
   "cell_type": "markdown",
   "metadata": {},
   "source": [
    "## Running the model recursively in ensembles \n",
    "\n",
    "You can train the model in ensembles of variable size and get averages of metrics and predictions."
   ]
  },
  {
   "cell_type": "code",
   "execution_count": null,
   "metadata": {},
   "outputs": [],
   "source": [
    "n=10\n",
    "if mode==\"train\":\n",
    "    for i in range(n):\n",
    "        model = mlp_deep(dropout_rate=0.1)\n",
    "        shuffle(Xtrain, ytrain)\n",
    "        history = train_model(model, i)"
   ]
  },
  {
   "cell_type": "code",
   "execution_count": null,
   "metadata": {},
   "outputs": [],
   "source": [
    "mean_preds,std_preds,preds_ens=ensemble_inference(model, Xtest, 10)\n",
    "mae_means,maxerr_means,r2_means=score_model(ytest,mean_preds,print_results=True,graph=True,print_ingraph=True,savegraph=True)"
   ]
  },
  {
   "cell_type": "code",
   "execution_count": null,
   "metadata": {},
   "outputs": [],
   "source": [
    "mean_trainpreds,std_trainpreds,trainpreds_ens=ensemble_inference(model, Xtrain, 10)\n",
    "mae_means,maxerr_means,r2_means=score_model(ytrain,mean_trainpreds,graph=True,print_ingraph=True)"
   ]
  },
  {
   "cell_type": "code",
   "execution_count": null,
   "metadata": {},
   "outputs": [],
   "source": [
    "mean_valpreds,std_valpreds,valpreds_ens=ensemble_inference(model, Xval, 10)\n",
    "mae_means,maxerr_means,r2_means=score_model(yval,mean_valpreds,graph=True,print_ingraph=True)"
   ]
  },
  {
   "cell_type": "code",
   "execution_count": null,
   "metadata": {},
   "outputs": [],
   "source": [
    "#Alternative metrics, using means of the metric values instead of means of the predictions\n",
    "all_mae=[];all_maxerr=[];all_r2=[];\n",
    "for i in range(n):\n",
    "    mae,maxerr,r2=score_model(ytest,preds_ens[i,:,:])\n",
    "    all_mae.append(mae)\n",
    "    all_maxerr.append(maxerr)\n",
    "    all_r2.append(r2)\n",
    "print(np.mean(all_mae))\n",
    "print(np.mean(all_maxerr))\n",
    "print(np.mean(all_r2))"
   ]
  },
  {
   "cell_type": "markdown",
   "metadata": {},
   "source": [
    "## SHAP Analysis "
   ]
  },
  {
   "cell_type": "code",
   "execution_count": null,
   "metadata": {},
   "outputs": [],
   "source": [
    "feature_labels=[\"Cluster 1 (k=1,l=0)\",\"Cluster 2 (k=1,l=0)\",\"Cluster 3 (k=2,l=3.130)\",\n",
    "                \"Cluster 4 (k=2,l=3.670)\",\"Cluster 5 (k=2,l=3.833)\",\"Cluster 6 (k=2,l=5.421)\",\n",
    "                \"Cluster 7 (k=2,l=5.750)\",\"Cluster 8 (k=2,l=6.260)\",\"Cluster 9 (k=2,l=6.260)\",\n",
    "                \"Cluster 10 (k=3,l=3.130)\",\"Cluster 11 (k=3,l=3.670)\",\"Cluster 12 (k=3,l=3.670)\",\n",
    "                \"Cluster 13 (k=3,l=3.833)\",\"Cluster 14 (k=3,l=5.421)\",\"Cluster 15 (k=3,l=5.421)\",\n",
    "                \"Cluster 16 (k=3,l=5.421)\",\"Cluster 17 (k=3,l=5.421)\",\"Cluster 18 (k=3,l=5.750)\",\n",
    "                \"Cluster 19 (k=3,l=5.750)\",\"Cluster 20 (k=3,l=5.750)\",\"Cluster 21 (k=3,l=5.750)\",\n",
    "                \"Cluster 22 (k=3,l=5.750)\",\"Cluster 23 (k=3,l=6.260)\",\"Cluster 24 (k=3,l=6.260)\",\n",
    "                \"Cluster 25 (k=3,l=6.260)\",\"Cluster 26 (k=3,l=6.260)\",\"Cluster 27 (k=3,l=6.260)\",\n",
    "                \"Cluster 28 (k=3,l=6.260)\",\"Cluster 29 (k=3,l=6.260)\",\"Cluster 30 (k=3,l=6.260)\",\n",
    "                \"Cluster 31 (k=3,l=6.260)\",\"Cluster 32 (k=3,l=6.260)\",\"Cluster 33 (k=3,l=7.257)\",\n",
    "                \"Cluster 34 (k=3,l=7.340)\"]"
   ]
  },
  {
   "cell_type": "code",
   "execution_count": null,
   "metadata": {},
   "outputs": [],
   "source": [
    "explainer = shap.Explainer(model, Xtrain,feature_names=feature_labels)\n",
    "shap_values = explainer(Xtest)"
   ]
  },
  {
   "cell_type": "code",
   "execution_count": null,
   "metadata": {},
   "outputs": [],
   "source": [
    "shap.plots.beeswarm(shap_values)"
   ]
  },
  {
   "cell_type": "markdown",
   "metadata": {},
   "source": [
    "## Model predictions \n",
    "\n",
    "Here the previously train model is used to predict the selected feature for all the structures within the space (only for CCF)"
   ]
  },
  {
   "cell_type": "code",
   "execution_count": null,
   "metadata": {},
   "outputs": [],
   "source": [
    "#Read input for all the structures\n",
    "allstr = pd.read_pickle('../descriptors/correlationmatrix_allstr/str_corrm.pkl')\n",
    "Xall=np.stack(allstr[\"CorrM\"].to_numpy())"
   ]
  },
  {
   "cell_type": "code",
   "execution_count": null,
   "metadata": {},
   "outputs": [],
   "source": [
    "#Predict property for all the structures and save predictions in the dataframe\n",
    "mean_allpreds,std_allpreds,allpreds_ens=ensemble_inference(model, Xall, 10)"
   ]
  },
  {
   "cell_type": "code",
   "execution_count": null,
   "metadata": {},
   "outputs": [],
   "source": [
    "allstr[feature+'_ens-meanpred']=mean_allpreds\n",
    "allstr[feature+'_ens-std']=std_allpreds\n",
    "allstr[feature+'_ens-dev']=abs(mean_allpreds.reshape(len(mean_allpreds),)-np.stack(allstr[feature].to_numpy()))"
   ]
  },
  {
   "cell_type": "code",
   "execution_count": null,
   "metadata": {},
   "outputs": [],
   "source": [
    "plt.figure()\n",
    "plt.plot(allstr[allstr['gga_data']!=False]['y'],allstr[allstr['gga_data']!=False][feature+'_ens-meanpred'],'bo')\n",
    "#plt.plot(allstr[allstr['gga_data']==False]['y'],allstr[allstr['gga_data']==False][feature+'_ens-meanpred'],'rx')\n",
    "plt.plot(ener['inv'],ener[feature],'gx')\n",
    "plt.xlabel(\"Inversion degree\")\n",
    "plt.ylabel(labelsname+\" (eV)\")\n",
    "plt.show()\n",
    "plt.close()"
   ]
  },
  {
   "cell_type": "code",
   "execution_count": null,
   "metadata": {},
   "outputs": [],
   "source": [
    "# Save dataframe with predictions to pickle again.\n",
    "#allstr.to_pickle('../descriptors/correlationmatrix_allstr/str_corrm.pkl')"
   ]
  },
  {
   "cell_type": "code",
   "execution_count": null,
   "metadata": {},
   "outputs": [],
   "source": [
    "#Unless the .pkl file is already loaded with Mix Energy predictions from the LR model this code will prompt an error\n",
    "plt.figure()\n",
    "for inv in np.unique(allstr['y']):\n",
    "    plt.plot(allstr[allstr['y']==inv]['HSE-corr_ens-meanpred'],allstr[allstr['y']==inv]['MixE_pred'],'o')\n",
    "plt.xlabel(\"Mixing energy (eV)\")\n",
    "plt.ylabel(\"Bandgap (eV)\")\n",
    "plt.show()\n",
    "plt.close()"
   ]
  }
 ],
 "metadata": {
  "kernelspec": {
   "display_name": "Python 3 (ipykernel)",
   "language": "python",
   "name": "python3"
  },
  "language_info": {
   "codemirror_mode": {
    "name": "ipython",
    "version": 3
   },
   "file_extension": ".py",
   "mimetype": "text/x-python",
   "name": "python",
   "nbconvert_exporter": "python",
   "pygments_lexer": "ipython3",
   "version": "3.9.12"
  }
 },
 "nbformat": 4,
 "nbformat_minor": 4
}
